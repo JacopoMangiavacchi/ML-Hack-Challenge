{
 "cells": [
  {
   "cell_type": "markdown",
   "metadata": {},
   "source": [
    "# Image Pre-Processing"
   ]
  },
  {
   "cell_type": "code",
   "execution_count": 1,
   "metadata": {},
   "outputs": [],
   "source": [
    "import os\n",
    "from PIL import Image, ImageOps\n",
    "import numpy as np\n",
    "import matplotlib.pyplot as plt\n",
    "%matplotlib inline"
   ]
  },
  {
   "cell_type": "code",
   "execution_count": 2,
   "metadata": {},
   "outputs": [
    {
     "name": "stdout",
     "output_type": "stream",
     "text": [
      "  % Total    % Received % Xferd  Average Speed   Time    Time     Time  Current\n",
      "                                 Dload  Upload   Total   Spent    Left  Speed\n",
      "100 33.4M  100 33.4M    0     0  3937k      0  0:00:08  0:00:08 --:--:-- 2577k 0     0  3789k      0  0:00:09 --:--:--  0:00:09 3782k\n"
     ]
    }
   ],
   "source": [
    "! curl -O https://challenge.blob.core.windows.net/challengefiles/gear_images.zip"
   ]
  },
  {
   "cell_type": "code",
   "execution_count": 3,
   "metadata": {},
   "outputs": [],
   "source": [
    "! tar xopf gear_images.zip"
   ]
  },
  {
   "cell_type": "code",
   "execution_count": 4,
   "metadata": {},
   "outputs": [],
   "source": [
    "def normalize(arr):\n",
    "    \"\"\"\n",
    "    Linear normalization\n",
    "    http://en.wikipedia.org/wiki/Normalization_%28image_processing%29\n",
    "    \"\"\"\n",
    "    arr = arr.astype('float')\n",
    "    # Do not touch the alpha channel\n",
    "    for i in range(3):\n",
    "        minval = arr[...,i].min()\n",
    "        maxval = arr[...,i].max()\n",
    "        if minval != maxval:\n",
    "            arr[...,i] -= minval\n",
    "            arr[...,i] *= (255/(maxval-minval)) \n",
    "            arr[...,i] += 128\n",
    "    return arr"
   ]
  },
  {
   "cell_type": "code",
   "execution_count": 5,
   "metadata": {},
   "outputs": [],
   "source": [
    "rawImages = [] \n",
    "labels = []\n",
    "labelMap = {}\n",
    "count = 0\n",
    "size = (128, 128)\n",
    "\n",
    "def list_files(directory,prefix = ''):\n",
    "    global count\n",
    "    for filename in os.listdir(directory):\n",
    "        if  filename.endswith(\".jpeg\") or filename.endswith(\".jpg\") or filename.endswith(\".png\"): \n",
    "            filePath = directory + \"/\" + filename\n",
    "            img = Image.open(filePath)\n",
    "            img.thumbnail(size)\n",
    "            imgResized = Image.new('RGB', size, (0, 0, 0))\n",
    "            imgWidth, imageHeight = img.size\n",
    "            imgResized.paste(img, ((size[0]-imgWidth)//2,(size[1]-imageHeight)//2))\n",
    "            imgArray = normalize(np.array(imgResized))\n",
    "            #np.save(filePath + \".npy\", imgArray)\n",
    "            label = filePath.split(os.path.sep)[-2]\n",
    "            if label not in labelMap.keys():\n",
    "                labelMap[label] = count\n",
    "                label = count\n",
    "                count += 1\n",
    "            else:\n",
    "                label = labelMap[label]\n",
    "            rawImages.append(imgArray)\n",
    "            labels.append([label])\n",
    "                \n",
    "                "
   ]
  },
  {
   "cell_type": "code",
   "execution_count": 6,
   "metadata": {},
   "outputs": [],
   "source": [
    "path = \"./gear_images/\" \n",
    "\n",
    "dir_list = os.listdir(path)\n",
    "for p in dir_list:\n",
    "    sub_path = os.path.join(path , p)\n",
    "    list_files(sub_path)"
   ]
  },
  {
   "cell_type": "code",
   "execution_count": 7,
   "metadata": {},
   "outputs": [
    {
     "name": "stdout",
     "output_type": "stream",
     "text": [
      "[INFO] label mapping: {'boots': 0, 'hardshell_jackets': 1, 'axes': 2, 'carabiners': 3, 'helmets': 4, 'harnesses': 5, 'rope': 6, 'crampons': 7, 'gloves': 8, 'tents': 9, 'insulated_jackets': 10, 'pulleys': 11} 12\n",
      "[INFO] pixels matrix: 814.85MB\n"
     ]
    }
   ],
   "source": [
    "rawImages = np.array(rawImages) \n",
    "labels = np.array(labels)\n",
    "num_classes = len(labelMap)\n",
    "print(\"[INFO] label mapping:\",labelMap,num_classes)\n",
    "print(\"[INFO] pixels matrix: {:.2f}MB\".format(\n",
    "    rawImages.nbytes / (1024 * 1000.0))) "
   ]
  },
  {
   "cell_type": "markdown",
   "metadata": {},
   "source": [
    "# Keras CNN Training"
   ]
  },
  {
   "cell_type": "code",
   "execution_count": 8,
   "metadata": {},
   "outputs": [
    {
     "name": "stderr",
     "output_type": "stream",
     "text": [
      "/anaconda3/lib/python3.7/importlib/_bootstrap.py:219: RuntimeWarning: compiletime version 3.6 of module 'tensorflow.python.framework.fast_tensor_util' does not match runtime version 3.7\n",
      "  return f(*args, **kwds)\n"
     ]
    }
   ],
   "source": [
    "from tensorflow import keras\n",
    "from tensorflow.keras.models import Sequential\n",
    "from tensorflow.keras.layers import Dense, Dropout, Activation\n",
    "from tensorflow.keras.optimizers import SGD\n",
    "from sklearn.model_selection import train_test_split\n",
    "from tensorflow.keras.layers import Conv2D, MaxPooling2D, Flatten\n",
    "from tensorflow.keras import backend as K\n",
    "from tensorflow.keras.optimizers import RMSprop"
   ]
  },
  {
   "cell_type": "code",
   "execution_count": 9,
   "metadata": {},
   "outputs": [
    {
     "name": "stdout",
     "output_type": "stream",
     "text": [
      "[INFO] input_shape: (128, 128, 3)\n",
      "[INFO] x_train Dataset shape (1591, 128, 128, 3)\n",
      "[INFO] y_train categorical result shape (1591, 12)\n",
      "[INFO] x_test Dataset shape (531, 128, 128, 3)\n",
      "[INFO] y_test categorical result shape (531, 12)\n"
     ]
    }
   ],
   "source": [
    "labels = keras.utils.to_categorical(labels, num_classes)\n",
    "\n",
    "(x_train, x_test, y_train, y_test) = train_test_split(\n",
    "    rawImages, labels, test_size=0.25, random_state=42)\n",
    "\n",
    "input_shape = x_train.shape[1:]\n",
    "\n",
    "print(\"[INFO] input_shape:\",str(input_shape))\n",
    "print(\"[INFO] x_train Dataset shape\",x_train.shape)\n",
    "print(\"[INFO] y_train categorical result shape\",y_train.shape)\n",
    "print(\"[INFO] x_test Dataset shape\",x_test.shape)\n",
    "print(\"[INFO] y_test categorical result shape\",y_test.shape)"
   ]
  },
  {
   "cell_type": "code",
   "execution_count": 10,
   "metadata": {},
   "outputs": [
    {
     "name": "stdout",
     "output_type": "stream",
     "text": [
      "_________________________________________________________________\n",
      "Layer (type)                 Output Shape              Param #   \n",
      "=================================================================\n",
      "conv2d (Conv2D)              (None, 125, 125, 64)      3136      \n",
      "_________________________________________________________________\n",
      "conv2d_1 (Conv2D)            (None, 122, 122, 64)      65600     \n",
      "_________________________________________________________________\n",
      "max_pooling2d (MaxPooling2D) (None, 61, 61, 64)        0         \n",
      "_________________________________________________________________\n",
      "conv2d_2 (Conv2D)            (None, 58, 58, 128)       131200    \n",
      "_________________________________________________________________\n",
      "conv2d_3 (Conv2D)            (None, 55, 55, 128)       262272    \n",
      "_________________________________________________________________\n",
      "max_pooling2d_1 (MaxPooling2 (None, 27, 27, 128)       0         \n",
      "_________________________________________________________________\n",
      "flatten (Flatten)            (None, 93312)             0         \n",
      "_________________________________________________________________\n",
      "dense (Dense)                (None, 256)               23888128  \n",
      "_________________________________________________________________\n",
      "dense_1 (Dense)              (None, 12)                3084      \n",
      "=================================================================\n",
      "Total params: 24,353,420\n",
      "Trainable params: 24,353,420\n",
      "Non-trainable params: 0\n",
      "_________________________________________________________________\n",
      "None\n"
     ]
    }
   ],
   "source": [
    "x_train = x_train.astype('float32')\n",
    "x_test = x_test.astype('float32')\n",
    "x_train /= 255\n",
    "x_test /= 255\n",
    "filter_size = (4,4)\n",
    "\n",
    "model = Sequential()\n",
    "model.add(Conv2D(64, filter_size, activation='relu', input_shape=(128, 128, 3)))\n",
    "model.add(Conv2D(64, filter_size, activation='relu'))\n",
    "model.add(MaxPooling2D(pool_size=(2, 2)))\n",
    "#model.add(Dropout(0.2))\n",
    "\n",
    "model.add(Conv2D(128, filter_size, activation='relu'))\n",
    "model.add(Conv2D(128, filter_size, activation='relu'))\n",
    "model.add(MaxPooling2D(pool_size=(2, 2)))\n",
    "#model.add(Dropout(0.2))\n",
    "\n",
    "model.add(Flatten())\n",
    "model.add(Dense(256, activation='relu'))\n",
    "#model.add(Dropout(0.5))\n",
    "model.add(Dense(num_classes, activation='softmax'))\n",
    "\n",
    "# initiate RMSprop optimizer\n",
    "opt = RMSprop(lr=0.0001, decay=1e-6)\n",
    "model.compile(loss='categorical_crossentropy', optimizer=opt, metrics=['accuracy'])\n",
    "print(model.summary())"
   ]
  },
  {
   "cell_type": "code",
   "execution_count": 11,
   "metadata": {},
   "outputs": [
    {
     "name": "stdout",
     "output_type": "stream",
     "text": [
      "[INFO] x_train Dataset shape (1591, 128, 128, 3)\n",
      "[INFO] y_train categorical result shape (1591, 12)\n",
      "[[0. 0. 1. ... 0. 0. 0.]\n",
      " [0. 1. 0. ... 0. 0. 0.]\n",
      " [0. 1. 0. ... 0. 0. 0.]\n",
      " ...\n",
      " [0. 0. 0. ... 0. 0. 0.]\n",
      " [0. 0. 0. ... 0. 0. 0.]\n",
      " [0. 0. 0. ... 0. 0. 0.]]\n",
      "Epoch 1/20\n",
      "1591/1591 [==============================] - 168s 106ms/step - loss: 2.6238 - acc: 0.2326\n",
      "Epoch 2/20\n",
      "1591/1591 [==============================] - 178s 112ms/step - loss: 1.6227 - acc: 0.4840\n",
      "Epoch 3/20\n",
      "1591/1591 [==============================] - 182s 114ms/step - loss: 1.1698 - acc: 0.6424\n",
      "Epoch 4/20\n",
      "1591/1591 [==============================] - 182s 114ms/step - loss: 0.8230 - acc: 0.7423\n",
      "Epoch 5/20\n",
      "1591/1591 [==============================] - 181s 114ms/step - loss: 0.6731 - acc: 0.7788\n",
      "Epoch 6/20\n",
      "1591/1591 [==============================] - 178s 112ms/step - loss: 0.6786 - acc: 0.7693\n",
      "Epoch 7/20\n",
      "1591/1591 [==============================] - 186s 117ms/step - loss: 0.4393 - acc: 0.8429\n",
      "Epoch 8/20\n",
      "1591/1591 [==============================] - 195s 123ms/step - loss: 0.4103 - acc: 0.8655\n",
      "Epoch 9/20\n",
      "1591/1591 [==============================] - 205s 129ms/step - loss: 0.4068 - acc: 0.8642\n",
      "Epoch 10/20\n",
      "1591/1591 [==============================] - 206s 129ms/step - loss: 0.3062 - acc: 0.8975\n",
      "Epoch 11/20\n",
      "1591/1591 [==============================] - 212s 133ms/step - loss: 0.2475 - acc: 0.9133\n",
      "Epoch 12/20\n",
      "1591/1591 [==============================] - 201s 127ms/step - loss: 0.1964 - acc: 0.9309\n",
      "Epoch 13/20\n",
      "1591/1591 [==============================] - 203s 127ms/step - loss: 0.2781 - acc: 0.9013\n",
      "Epoch 14/20\n",
      "1591/1591 [==============================] - 195s 123ms/step - loss: 0.1380 - acc: 0.9497\n",
      "Epoch 15/20\n",
      "1591/1591 [==============================] - 199s 125ms/step - loss: 0.1706 - acc: 0.9497\n",
      "Epoch 16/20\n",
      "1591/1591 [==============================] - 203s 128ms/step - loss: 0.1522 - acc: 0.9491\n",
      "Epoch 17/20\n",
      "1591/1591 [==============================] - 204s 128ms/step - loss: 0.1300 - acc: 0.9591\n",
      "Epoch 18/20\n",
      "1591/1591 [==============================] - 204s 128ms/step - loss: 0.0720 - acc: 0.9767\n",
      "Epoch 19/20\n",
      "1591/1591 [==============================] - 207s 130ms/step - loss: 0.1139 - acc: 0.9661\n",
      "Epoch 20/20\n",
      "1591/1591 [==============================] - 217s 136ms/step - loss: 0.1095 - acc: 0.9573\n"
     ]
    },
    {
     "data": {
      "text/plain": [
       "<tensorflow.python.keras.callbacks.History at 0x12adae9e8>"
      ]
     },
     "execution_count": 11,
     "metadata": {},
     "output_type": "execute_result"
    }
   ],
   "source": [
    "print(\"[INFO] x_train Dataset shape\",x_train.shape)\n",
    "print(\"[INFO] y_train categorical result shape\",y_train.shape)\n",
    "print(y_train) \n",
    "model.fit(x_train, y_train, batch_size=128, epochs=20)"
   ]
  },
  {
   "cell_type": "code",
   "execution_count": 12,
   "metadata": {},
   "outputs": [
    {
     "name": "stdout",
     "output_type": "stream",
     "text": [
      "loss 0.5629724868048831\n",
      "acc 0.8192090397725222\n"
     ]
    }
   ],
   "source": [
    "score = model.evaluate(x_test, y_test, verbose=0, batch_size=128)\n",
    "for name,value in zip(model.metrics_names, score):\n",
    "    print(name, value) "
   ]
  },
  {
   "cell_type": "code",
   "execution_count": 13,
   "metadata": {},
   "outputs": [],
   "source": [
    "model.save_weights('./model_weights.h5')\n",
    "model.save('./model.h5')"
   ]
  },
  {
   "cell_type": "markdown",
   "metadata": {},
   "source": [
    "# Prediction"
   ]
  },
  {
   "cell_type": "code",
   "execution_count": 14,
   "metadata": {},
   "outputs": [],
   "source": [
    "import requests\n",
    "from io import BytesIO"
   ]
  },
  {
   "cell_type": "code",
   "execution_count": 15,
   "metadata": {},
   "outputs": [
    {
     "data": {
      "image/png": "[encoded data removed]",
      "text/plain": [
       "<Figure size 432x288 with 1 Axes>"
      ]
     },
     "metadata": {
      "needs_background": "light"
     },
     "output_type": "display_data"
    }
   ],
   "source": [
    "response = requests.get(\"https://shop.epictv.com/sites/default/files/ae42ad29e70ba8ce6b67d3bdb6ab5c6e.jpeg\")\n",
    "img = Image.open(BytesIO(response.content))\n",
    "img.thumbnail(size)\n",
    "imgResized = Image.new('RGB', size, (0, 0, 0))\n",
    "imgWidth, imageHeight = img.size\n",
    "imgResized.paste(img, ((size[0]-imgWidth)//2,(size[1]-imageHeight)//2))\n",
    "plt.imshow(imgResized)\n",
    "imgArray = normalize(np.array(imgResized))"
   ]
  },
  {
   "cell_type": "code",
   "execution_count": 16,
   "metadata": {},
   "outputs": [
    {
     "name": "stdout",
     "output_type": "stream",
     "text": [
      "{'boots': 0, 'hardshell_jackets': 1, 'axes': 2, 'carabiners': 3, 'helmets': 4, 'harnesses': 5, 'rope': 6, 'crampons': 7, 'gloves': 8, 'tents': 9, 'insulated_jackets': 10, 'pulleys': 11}\n",
      "[[0. 0. 0. 0. 1. 0. 0. 0. 0. 0. 0. 0.]]\n",
      "helmets\n"
     ]
    }
   ],
   "source": [
    "result = model.predict(np.array([imgArray]))\n",
    "print(labelMap)\n",
    "print(result)\n",
    "print(list(labelMap.keys())[list(labelMap.values()).index(np.where(result[0]==1)[0][0])])\n"
   ]
  },
  {
   "cell_type": "code",
   "execution_count": null,
   "metadata": {},
   "outputs": [],
   "source": []
  }
 ],
 "metadata": {
  "kernelspec": {
   "display_name": "Python 3",
   "language": "python",
   "name": "python3"
  },
  "language_info": {
   "codemirror_mode": {
    "name": "ipython",
    "version": 3
   },
   "file_extension": ".py",
   "mimetype": "text/x-python",
   "name": "python",
   "nbconvert_exporter": "python",
   "pygments_lexer": "ipython3",
   "version": "3.7.1"
  }
 },
 "nbformat": 4,
 "nbformat_minor": 2
}
